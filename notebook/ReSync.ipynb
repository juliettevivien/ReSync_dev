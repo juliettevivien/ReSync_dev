{
 "cells": [
  {
   "cell_type": "markdown",
   "metadata": {},
   "source": [
    "## PART 1 : Import necessary functions, set parameters and load your own recordings ##"
   ]
  },
  {
   "attachments": {},
   "cell_type": "markdown",
   "metadata": {},
   "source": [
    "#### Import librairies, custom functions and set repository folder ####"
   ]
  },
  {
   "cell_type": "code",
   "execution_count": 1,
   "metadata": {},
   "outputs": [],
   "source": [
    "# Importation of librairies and functions\n",
    "import os\n",
    "import importlib\n",
    "import pandas as pd\n",
    "import numpy as np\n",
    "import matplotlib.pyplot as plt\n",
    "from matplotlib.pyplot import figure\n",
    "import json"
   ]
  },
  {
   "cell_type": "code",
   "execution_count": 2,
   "metadata": {},
   "outputs": [
    {
     "name": "stdout",
     "output_type": "stream",
     "text": [
      "Python sys 3.10.9 | packaged by conda-forge | (main, Feb  2 2023, 20:14:58) [MSC v.1929 64 bit (AMD64)]\n",
      "pandas 1.5.3\n",
      "numpy 1.23.5\n",
      "mne 1.3.0\n",
      "sci-py 1.10.0\n",
      "matplotlib 3.6.3\n"
     ]
    }
   ],
   "source": [
    "# check some package versions for documentation and reproducibility\n",
    "import sys\n",
    "import mne\n",
    "from matplotlib import __version__ as plt_version\n",
    "import scipy\n",
    "print('Python sys', sys.version)\n",
    "print('pandas', pd.__version__)\n",
    "print('numpy', np.__version__)\n",
    "print('mne', mne.__version__)\n",
    "print('sci-py', scipy.__version__)\n",
    "print('matplotlib', plt_version)"
   ]
  },
  {
   "cell_type": "code",
   "execution_count": 3,
   "metadata": {},
   "outputs": [],
   "source": [
    "def set_cd_repo_folder():\n",
    "    \"\"\"sets current working directory to main repo folder\"\"\"\n",
    "    cd = os.getcwd()\n",
    "\n",
    "    check = 0\n",
    "\n",
    "    while os.path.basename(cd) != 'ReSync':\n",
    "\n",
    "        cd = os.path.dirname(cd)\n",
    "        check += 1\n",
    "        if check > 10: raise ValueError('Repo path not found')\n",
    "    \n",
    "    os.chdir(cd)\n",
    "\n",
    "    print(f'working directory changed to {os.getcwd()}')\n",
    "\n",
    "    return os.getcwd()\n"
   ]
  },
  {
   "cell_type": "code",
   "execution_count": 4,
   "metadata": {},
   "outputs": [
    {
     "name": "stdout",
     "output_type": "stream",
     "text": [
      "working directory changed to c:\\Users\\Juliette\\Research\\Projects\\Synchronization_project\\Code\\ReSync\n"
     ]
    }
   ],
   "source": [
    "project_path = set_cd_repo_folder()"
   ]
  },
  {
   "cell_type": "code",
   "execution_count": 101,
   "metadata": {},
   "outputs": [],
   "source": [
    "# import custom-made functions\n",
    "import functions.preprocessing as preproc\n",
    "import functions.utils as utils\n",
    "import functions.plotting as plot\n",
    "import functions.find_artefacts as artefact\n",
    "import functions.crop as crop\n",
    "import functions.main_resync as resync\n",
    "import functions.interactive as interact\n"
   ]
  },
  {
   "cell_type": "code",
   "execution_count": 108,
   "metadata": {},
   "outputs": [
    {
     "data": {
      "text/plain": [
       "<module 'functions.interactive' from 'c:\\\\Users\\\\Juliette\\\\Research\\\\Projects\\\\Synchronization_project\\\\Code\\\\ReSync\\\\functions\\\\interactive.py'>"
      ]
     },
     "execution_count": 108,
     "metadata": {},
     "output_type": "execute_result"
    }
   ],
   "source": [
    "importlib.reload(plot)\n",
    "importlib.reload(preproc)\n",
    "importlib.reload(utils)\n",
    "importlib.reload(artefact)\n",
    "importlib.reload(crop)\n",
    "importlib.reload(resync)\n",
    "importlib.reload(interact)"
   ]
  },
  {
   "attachments": {},
   "cell_type": "markdown",
   "metadata": {},
   "source": [
    "#### Load your own LFP data: ####\n",
    "\n",
    "Resulting variables needed for subsequent analysis:\n",
    "- LFP_array (np.ndarray, 6d): the LFP recording which has to be aligned, containing all channels\n",
    "- lfp_sig (np.ndarray, 1d): the channel containing the LFP signal from the hemisphere where the stimulation was delivered to create artefacts\n",
    "- LFP_rec_ch_names (list): names of all the channels, in a list (will be used to annotate cropped recording)\n",
    "- sf_LFP (int): sampling frequency of intracerebral signal\n"
   ]
  },
  {
   "cell_type": "code",
   "execution_count": 7,
   "metadata": {},
   "outputs": [
    {
     "name": "stdout",
     "output_type": "stream",
     "text": [
      "working dir to go fetch PyPerceive functions:c:\\Users\\Juliette\\Research\\Projects\\Synchronization_project\\Code\\PyPerceive\\code\n",
      "working dir set back to:c:\\Users\\Juliette\\Research\\Projects\\Synchronization_project\\Code\\ReSync\n"
     ]
    }
   ],
   "source": [
    "# load pyPerceive functions\n",
    "os.chdir(os.path.dirname(os.getcwd()))\n",
    "os.chdir(os.path.join(os.getcwd(), 'PyPerceive'))\n",
    "os.chdir(os.path.join(os.getcwd(), 'code'))\n",
    "pyPerceive_path = os.getcwd()\n",
    "print (f'working dir to go fetch PyPerceive functions:{pyPerceive_path}')\n",
    "\n",
    "from PerceiveImport.classes import (\n",
    "    main_class, modality_class, metadata_class,\n",
    "    session_class, condition_class, task_class,\n",
    "    contact_class, run_class\n",
    ")\n",
    "import PerceiveImport.methods.load_rawfile as load_rawfile\n",
    "import PerceiveImport.methods.find_folders as find_folders\n",
    "import PerceiveImport.methods.metadata_helpers as metaHelpers\n",
    "\n",
    "#reset the proper working directory for the analysis\n",
    "os.chdir(project_path)\n",
    "print (f'working dir set back to:{project_path}')"
   ]
  },
  {
   "cell_type": "code",
   "execution_count": 8,
   "metadata": {},
   "outputs": [
    {
     "name": "stdout",
     "output_type": "stream",
     "text": [
      "add run 1\n",
      "Creating RawArray with float64 data, n_channels=6, n_times=85063\n",
      "    Range : 0 ... 85062 =      0.000 ...   340.248 secs\n",
      "Ready.\n",
      "add run 1\n",
      "Creating RawArray with float64 data, n_channels=6, n_times=232063\n",
      "    Range : 0 ... 232062 =      0.000 ...   928.248 secs\n",
      "Ready.\n",
      "add run 1\n",
      "Creating RawArray with float64 data, n_channels=6, n_times=78500\n",
      "    Range : 0 ... 78499 =      0.000 ...   313.996 secs\n",
      "Ready.\n",
      "add run 1\n",
      "Creating RawArray with float64 data, n_channels=6, n_times=195938\n",
      "    Range : 0 ... 195937 =      0.000 ...   783.748 secs\n",
      "Ready.\n",
      "The data object has:\n",
      "\t85063 time samples,\n",
      "\tand a sample frequency of 250.0 Hz\n",
      "\twith a recording duration of 340.252 seconds.\n",
      "\t6 channels were labeled as \n",
      "['LFP_L_02_STN_MT', 'LFP_R_02_STN_MT', 'LFP_L_02_STN_MT_PEAK20Hz_THR20-30_AVG3000ms', 'LFP_R_02_STN_MT_PEAK23Hz_THR20-30_AVG3000ms', 'STIM_L_85Hz_40us', 'STIM_R_85Hz_40us'].\n",
      "The channel containing artefacts has index 0 and is named LFP_L_02_STN_MT\n"
     ]
    }
   ],
   "source": [
    "# choose LFP file\n",
    "sub024 = main_class.PerceiveData(\n",
    "    sub = \"024\", \n",
    "    incl_modalities=['streaming'],\n",
    "    incl_session = [\"fu24m\"],\n",
    "    incl_condition =['m0s0','m0s1','m1s0','m1s1'],\n",
    "    incl_task = [\"rest\",\"fingerTap\"],\n",
    "    # incl_contact = [\"RingL\", \"SegmInterR\", \"SegmIntraR\"],\n",
    "    import_json=False,\n",
    "    warn_for_metaNaNs=False,\n",
    "    allow_NaNs_in_metadata=False\n",
    ")\n",
    "\n",
    "# define LFP data\n",
    "LFP_rec = sub024.streaming.fu24m.m0s0.rest.run1.data\n",
    "LFP_array = LFP_rec.get_data()\n",
    "ch_i = 0 #choose index of the channel containing the stim artefacts (O for left hemisphere, 1 for right hemisphere)\n",
    "lfp_sig = LFP_rec.get_data()[ch_i]\n",
    "LFP_rec_ch_names = LFP_rec.ch_names\n",
    "sf_LFP = int(LFP_rec.info[\"sfreq\"])\n",
    "\n",
    "n_chan = len(LFP_rec.ch_names)\n",
    "time_duration_LFP = (LFP_rec.n_times/LFP_rec.info['sfreq']).astype(float)\n",
    "print(     \n",
    "\tf'The data object has:\\n\\t{LFP_rec.n_times} time samples,'      \n",
    "\tf'\\n\\tand a sample frequency of {LFP_rec.info[\"sfreq\"]} Hz'      \n",
    "\tf'\\n\\twith a recording duration of {time_duration_LFP} seconds.'      \n",
    "\tf'\\n\\t{n_chan} channels were labeled as \\n{LFP_rec.ch_names}.')\n",
    "print(f'The channel containing artefacts has index {ch_i} and is named {LFP_rec.ch_names[ch_i]}')"
   ]
  },
  {
   "attachments": {},
   "cell_type": "markdown",
   "metadata": {},
   "source": [
    "#### Load your own external data: ####\n",
    "(our external data recorder is a TMSi Data recorder.)\n",
    "\n",
    "PM: NOTICE THE POP UP WINDOW AFTER RUNNING, TO SELECT THE FILE LOCATION\n",
    "\n",
    "Resulting variables:\n",
    "- external_file (np.ndarray, multi-dimensional): the complete external recording containing all channels recorded\n",
    "- BIP_channel (np.ndarray, 1d): the channel containing the signal from the bipolar electrode used to pick up the artefacts on the IPG/cable\n",
    "- external_rec_ch_names (list, same length as the number of channels in external_file): list of the channels names, to rename them accordingly after alignment\n",
    "- sf_external (int): sampling frequency of the external data recorder"
   ]
  },
  {
   "cell_type": "code",
   "execution_count": 9,
   "metadata": {},
   "outputs": [],
   "source": [
    "import functions.tmsi_poly5reader as poly5_reader\n",
    "import functions.loading_TMSi as loading"
   ]
  },
  {
   "cell_type": "code",
   "execution_count": 10,
   "metadata": {},
   "outputs": [
    {
     "name": "stdout",
     "output_type": "stream",
     "text": [
      "Reading file  C:/Users/Juliette/OneDrive - Charité - Universitätsmedizin Berlin/Recordings/TMSi files/sub-024/24MU/MedOFF/Sub_024_24MFU_M0S0_BrStr_restTap - 20230822T100723/Sub_024_12MFU_M0S0_BrStr_restTap-20230822T100723.DATA.Poly5\n",
      "\t Number of samples:  5938608 \n",
      "\t Number of channels:  11 \n",
      "\t Sample rate: 4096 Hz\n",
      "Done reading data.\n",
      "Creating RawArray with float64 data, n_channels=11, n_times=5938608\n",
      "    Range : 0 ... 5938607 =      0.000 ...  1449.855 secs\n",
      "Ready.\n",
      "The data object has:\n",
      "\t5938608 time samples,\n",
      "\tand a sample frequency of 4096.0 Hz\n",
      "\twith a recording duration of 1449.85546875 seconds.\n",
      "\t11 channels were labeled as \n",
      "['BIP 01', 'BIP 02', 'BIP 03', 'X-0', 'Y-0', 'Z-0', 'X-1', 'Y-1', 'Z-1', 'STATUS', 'Counter 2power24'].\n",
      "the channel used to align datas is the channel named BIP 01 and has index 0\n"
     ]
    }
   ],
   "source": [
    "TMSi_data = poly5_reader.Poly5Reader()  # open TMSi data from poly5\n",
    "(BIP_channel,\n",
    " external_file,\n",
    " external_rec_ch_names,\n",
    " sf_external) = loading.load_TMSi_artefact_channel(TMSi_data) # function adapted for our own data recorder, \n",
    "# to load all necessary variables"
   ]
  },
  {
   "cell_type": "markdown",
   "metadata": {},
   "source": [
    "## **READ ME** ##\n",
    "\n",
    "Before starting the run_resync function, be careful to check that the config file is properly set. In particular, pay attention to:\n",
    "- write the proper subject ID (to not overwrite previous analysis)\n",
    "- by default use kernel \"2\", and set \"real_index_LFP\" to 0 for the first run. This can be adjusted if necessary before re-running.\n",
    "- by default, set \"consider_first_seconds_LFP\", \"consider_first_seconds_external\" and \"ignore_first_seconds_external\" to null. "
   ]
  },
  {
   "cell_type": "markdown",
   "metadata": {},
   "source": [
    "Default parameters to adjust for our systems are:\n",
    "\n",
    "- For TMSi SAGA with sf = 4000Hz or 4096Hz : thresh_external = -0.001, ch_name_BIP = \"BIP 01\"\n",
    "- For TMSi SAGA with sf = 512Hz : thresh_external = -0.0005, ch_name_BIP = \"BIP 01\"\n",
    "- For TMSi Porti with sf = 2048Hz : thresh_external = -2000, ch_name_BIP = \"Bip25\""
   ]
  },
  {
   "cell_type": "markdown",
   "metadata": {},
   "source": [
    "## PART 2: Align recordings: ##"
   ]
  },
  {
   "cell_type": "code",
   "execution_count": null,
   "metadata": {},
   "outputs": [],
   "source": [
    "%matplotlib inline\n",
    "\n",
    "(LFP_df_offset, \n",
    " external_df_offset) = resync.run_resync(\n",
    "    LFP_array=LFP_array,\n",
    "    lfp_sig=lfp_sig,\n",
    "    LFP_rec_ch_names=LFP_rec_ch_names,\n",
    "    sf_LFP = sf_LFP,\n",
    "    external_file=external_file,\n",
    "    BIP_channel=BIP_channel,\n",
    "    external_rec_ch_names=external_rec_ch_names,\n",
    "    sf_external = sf_external,\n",
    "    real_art_time_LFP = 0,\n",
    "    SHOW_FIGURES = True\n",
    ")"
   ]
  },
  {
   "cell_type": "markdown",
   "metadata": {},
   "source": [
    "#### Manual selection if no kernel is accurate enough: ####"
   ]
  },
  {
   "cell_type": "markdown",
   "metadata": {},
   "source": [
    "WARNING: the plot is displayed in an interactive window, look for the pop up. Be careful that when you select the sample the user input window is not already opened and waiting for input, because it doesn't take into account the point selected after the opening of the user input window. If you're not sure, answer 'n' to the user input window and reselect the sample, then answer 'y' when it pops-up again.\n",
    "\n",
    "WARNING 2: the sample chosen as 'start of the artefact' will automatically be the last point you clicked on. Be careful not to click anywhere else on the plot after having selected the proper sample."
   ]
  },
  {
   "cell_type": "code",
   "execution_count": 112,
   "metadata": {},
   "outputs": [
    {
     "name": "stdout",
     "output_type": "stream",
     "text": [
      "The closest value to 30.93912767345286 is 30.94.\n"
     ]
    }
   ],
   "source": [
    "%matplotlib qt\n",
    "closest_value_lfp = interact.select_sample(lfp_sig,sf_LFP)"
   ]
  },
  {
   "cell_type": "markdown",
   "metadata": {},
   "source": [
    "#### Run again the run_resync function once the real_art_time is adjusted: ####"
   ]
  },
  {
   "cell_type": "code",
   "execution_count": null,
   "metadata": {},
   "outputs": [],
   "source": [
    "%matplotlib inline\n",
    "\n",
    "(LFP_df_offset, \n",
    " external_df_offset) = resync.run_resync(\n",
    "    LFP_array=LFP_array,\n",
    "    lfp_sig=lfp_sig,\n",
    "    LFP_rec_ch_names=LFP_rec_ch_names,\n",
    "    sf_LFP = sf_LFP,\n",
    "    external_file=external_file,\n",
    "    BIP_channel=BIP_channel,\n",
    "    external_rec_ch_names=external_rec_ch_names,\n",
    "    sf_external = sf_external,\n",
    "    real_art_time_LFP = closest_value_lfp,\n",
    "    SHOW_FIGURES = True\n",
    ")"
   ]
  },
  {
   "cell_type": "markdown",
   "metadata": {},
   "source": [
    "## PART 3 : Look for timeshift ##"
   ]
  },
  {
   "cell_type": "markdown",
   "metadata": {},
   "source": [
    "Nothing needs to be changed in the following cells, they just need to be executed one after the other and follow instructions for interactive cells, until the timeshift is plotted:"
   ]
  },
  {
   "cell_type": "code",
   "execution_count": 133,
   "metadata": {},
   "outputs": [],
   "source": [
    "# change the plotting mode to interactive:\n",
    "%matplotlib qt\n",
    "\n",
    "\n",
    "#import settings\n",
    "json_path = os.path.join(os.getcwd(), 'config')\n",
    "json_filename = 'config.json'  # dont forget json extension\n",
    "with open(os.path.join(json_path, json_filename), 'r') as f:\n",
    "    loaded_dict =  json.load(f)\n",
    "\n",
    "#set saving path\n",
    "if loaded_dict['saving_path'] == False:\n",
    "    saving_path = utils.define_folders()\n",
    "else:\n",
    "    saving_path = os.path.join(os.path.normpath(loaded_dict['saving_path']), loaded_dict['subject_ID'])\n",
    "    if not os.path.isdir(saving_path):\n",
    "        os.makedirs(saving_path)\n",
    "\n",
    "# Reselect artefact channels in the aligned (= cropped) files:\n",
    "LFP_channel_offset = LFP_df_offset.iloc[:,loaded_dict['LFP_ch_index']].to_numpy()  \n",
    "BIP_channel_offset = external_df_offset.iloc[:,loaded_dict['BIP_ch_index']].to_numpy() \n",
    "\n",
    "# Generate new timescales:\n",
    "LFP_timescale_offset_s = np.arange(0,(len(LFP_channel_offset)/sf_LFP),(1/sf_LFP))\n",
    "external_timescale_offset_s = np.arange(0,(len(external_df_offset)/sf_external),(1/sf_external))\n",
    "\n",
    "# detrend external recording with high-pass filter before processing:\n",
    "filtered_external_offset = preproc.filtering(BIP_channel_offset)\n"
   ]
  },
  {
   "cell_type": "code",
   "execution_count": 129,
   "metadata": {},
   "outputs": [
    {
     "name": "stdout",
     "output_type": "stream",
     "text": [
      "The closest value to 331.9243623245256 is 331.92400000000004.\n"
     ]
    }
   ],
   "source": [
    "last_artefact_lfp_x = interact.select_sample(LFP_channel_offset, sf_LFP)   # manually select last artefact in intracranial recording"
   ]
  },
  {
   "cell_type": "code",
   "execution_count": 130,
   "metadata": {},
   "outputs": [
    {
     "name": "stdout",
     "output_type": "stream",
     "text": [
      "The closest value to 331.9338259299568 is 331.933837890625.\n"
     ]
    }
   ],
   "source": [
    "last_artefact_external_x = interact.select_sample(filtered_external_offset, sf_external)    # manually select last artefact in external recording"
   ]
  },
  {
   "cell_type": "code",
   "execution_count": 131,
   "metadata": {},
   "outputs": [
    {
     "name": "stdout",
     "output_type": "stream",
     "text": [
      "The timeshift at the last artefact is of 9.84 ms after a recording duration of 331.93 s.\n"
     ]
    }
   ],
   "source": [
    "timeshift_ms = (last_artefact_external_x - last_artefact_lfp_x)*1000\n",
    "\n",
    "print(f\"The timeshift at the last artefact is of {timeshift_ms:.2f} ms after a recording duration of {last_artefact_external_x:.2f} s.\")\n",
    "\n",
    "if abs(timeshift_ms) > 100:\n",
    "    print('WARNING: the timeshift is unusually high, consider checking for packet loss in LFP data.')"
   ]
  },
  {
   "cell_type": "code",
   "execution_count": 134,
   "metadata": {},
   "outputs": [
    {
     "data": {
      "image/png": "[encoded data removed]",
      "text/plain": [
       "<Figure size 1200x600 with 2 Axes>"
      ]
     },
     "metadata": {},
     "output_type": "display_data"
    }
   ],
   "source": [
    "%matplotlib inline\n",
    "\n",
    "fig, (ax1, ax2) = plt.subplots(2,1)\n",
    "fig.suptitle(str(loaded_dict['subject_ID']))\n",
    "fig.set_figheight(6)\n",
    "fig.set_figwidth(12)\n",
    "ax1.axes.xaxis.set_ticklabels([])\n",
    "ax2.set_xlabel('Time (s)')\n",
    "ax1.set_ylabel('Intracerebral LFP channel (µV)')\n",
    "ax2.set_ylabel('External bipolar channel (mV)')\n",
    "\n",
    "ax1.set_xlim(last_artefact_external_x-0.050, last_artefact_external_x+0.1) \n",
    "ax2.set_xlim(last_artefact_external_x-0.050, last_artefact_external_x+0.1)\n",
    "\n",
    "ax1.plot(LFP_timescale_offset_s,LFP_channel_offset,color='peachpuff',zorder=1)\n",
    "ax1.scatter(LFP_timescale_offset_s,LFP_channel_offset,color='darkorange',s=4,zorder=2) \n",
    "ax1.axvline(x=last_artefact_lfp_x, ymin=min(LFP_channel_offset), ymax=max(LFP_channel_offset),\n",
    "                color='black', linestyle='dashed', alpha=.3,)\n",
    "\n",
    "ax2.plot(external_timescale_offset_s,filtered_external_offset, color='paleturquoise',zorder=1) \n",
    "ax2.scatter(external_timescale_offset_s,filtered_external_offset, color='darkcyan',s=4,zorder=2)\n",
    " \n",
    "ax2.axvline(x=last_artefact_external_x, color='black', linestyle='dashed', alpha=.3,)\n",
    "\n",
    "ax1.text(0.05,0.85,s='delay intra/exter: ' +str(round(timeshift_ms,2))+ 'ms',fontsize=14,transform=ax1.transAxes)\n",
    "\n",
    "fig.savefig(saving_path + '\\\\Fig8-Timeshift_Intracerebral and external recordings aligned_last artefact.png',bbox_inches='tight', dpi=1200)\n"
   ]
  },
  {
   "cell_type": "markdown",
   "metadata": {},
   "source": [
    "## PART 4 : Look for packet loss ##"
   ]
  },
  {
   "cell_type": "markdown",
   "metadata": {},
   "source": [
    "WARNING: this only works for pyPerceive users for now. If you are not using pyPerceive to import your LFP data, consider changing the importation mode in resync.check_packet_loss to adapt it to your needs."
   ]
  },
  {
   "cell_type": "code",
   "execution_count": null,
   "metadata": {},
   "outputs": [],
   "source": [
    "json_fname = 'Report_Json_Session_Report_20230523T113952_ANOM.json'  ## write json filename with extension\n",
    "sub = '047' ## write subject ID\n",
    "resync.check_packet_loss(json_fname, sub)"
   ]
  },
  {
   "cell_type": "markdown",
   "metadata": {},
   "source": [
    "## PLAYGROUND ##"
   ]
  },
  {
   "cell_type": "markdown",
   "metadata": {},
   "source": [
    "##### ECG artefact verification #####"
   ]
  },
  {
   "cell_type": "code",
   "execution_count": null,
   "metadata": {},
   "outputs": [],
   "source": [
    "%matplotlib inline\n",
    "\n",
    "resync.ecg(LFP_df_offset,\n",
    "           sf_LFP,\n",
    "           external_df_offset,\n",
    "           sf_external,\n",
    "           SHOW_FIGURES = True\n",
    ")"
   ]
  }
 ],
 "metadata": {
  "kernelspec": {
   "display_name": "mne",
   "language": "python",
   "name": "python3"
  },
  "language_info": {
   "codemirror_mode": {
    "name": "ipython",
    "version": 3
   },
   "file_extension": ".py",
   "mimetype": "text/x-python",
   "name": "python",
   "nbconvert_exporter": "python",
   "pygments_lexer": "ipython3",
   "version": "3.10.9"
  },
  "orig_nbformat": 4,
  "vscode": {
   "interpreter": {
    "hash": "d88ae3f494ed6750ac12c087146162cb95510d20525109b4b9e2bae86cf73368"
   }
  }
 },
 "nbformat": 4,
 "nbformat_minor": 2
}
