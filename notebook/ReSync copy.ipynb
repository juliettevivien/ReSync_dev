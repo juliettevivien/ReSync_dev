{
 "cells": [
  {
   "cell_type": "markdown",
   "metadata": {},
   "source": [
    "## PART 1 : Import necessary functions, set parameters and load your own recordings ##"
   ]
  },
  {
   "attachments": {},
   "cell_type": "markdown",
   "metadata": {},
   "source": [
    "#### Import librairies, custom functions and set repository folder ####"
   ]
  },
  {
   "cell_type": "code",
   "execution_count": 1,
   "metadata": {},
   "outputs": [],
   "source": [
    "# Importation of librairies and functions\n",
    "import os\n",
    "import importlib\n",
    "import pandas as pd\n",
    "import numpy as np\n",
    "import matplotlib.pyplot as plt\n",
    "from matplotlib.pyplot import figure"
   ]
  },
  {
   "cell_type": "code",
   "execution_count": 2,
   "metadata": {},
   "outputs": [
    {
     "name": "stdout",
     "output_type": "stream",
     "text": [
      "Python sys 3.10.9 | packaged by conda-forge | (main, Feb  2 2023, 20:14:58) [MSC v.1929 64 bit (AMD64)]\n",
      "pandas 1.5.3\n",
      "numpy 1.23.5\n",
      "mne 1.3.0\n",
      "sci-py 1.10.0\n",
      "matplotlib 3.6.3\n"
     ]
    }
   ],
   "source": [
    "# check some package versions for documentation and reproducibility\n",
    "import sys\n",
    "import mne\n",
    "from matplotlib import __version__ as plt_version\n",
    "import scipy\n",
    "print('Python sys', sys.version)\n",
    "print('pandas', pd.__version__)\n",
    "print('numpy', np.__version__)\n",
    "print('mne', mne.__version__)\n",
    "print('sci-py', scipy.__version__)\n",
    "print('matplotlib', plt_version)"
   ]
  },
  {
   "cell_type": "code",
   "execution_count": 3,
   "metadata": {},
   "outputs": [],
   "source": [
    "def set_cd_repo_folder():\n",
    "    \"\"\"sets current working directory to main repo folder\"\"\"\n",
    "    cd = os.getcwd()\n",
    "\n",
    "    check = 0\n",
    "\n",
    "    while os.path.basename(cd) != 'ReSync':\n",
    "\n",
    "        cd = os.path.dirname(cd)\n",
    "        check += 1\n",
    "        if check > 10: raise ValueError('Repo path not found')\n",
    "    \n",
    "    os.chdir(cd)\n",
    "\n",
    "    print(f'working directory changed to {os.getcwd()}')\n",
    "\n",
    "    return os.getcwd()\n"
   ]
  },
  {
   "cell_type": "code",
   "execution_count": 4,
   "metadata": {},
   "outputs": [
    {
     "name": "stdout",
     "output_type": "stream",
     "text": [
      "working directory changed to c:\\Users\\Juliette\\Research\\Projects\\Synchronization_project\\Code\\ReSync\n"
     ]
    }
   ],
   "source": [
    "project_path = set_cd_repo_folder()"
   ]
  },
  {
   "cell_type": "code",
   "execution_count": 5,
   "metadata": {},
   "outputs": [],
   "source": [
    "# import custom-made functions\n",
    "import functions.preprocessing as preproc\n",
    "import functions.utils as utils\n",
    "import functions.plotting as plot\n",
    "import functions.find_artefacts_dev as artefact\n",
    "import functions.crop as crop\n",
    "import functions.main_resync as resync\n",
    "#import functions.plotting_interactive as plot_interact"
   ]
  },
  {
   "cell_type": "code",
   "execution_count": 6,
   "metadata": {},
   "outputs": [
    {
     "data": {
      "text/plain": [
       "<module 'functions.main_resync' from 'c:\\\\Users\\\\Juliette\\\\Research\\\\Projects\\\\Synchronization_project\\\\Code\\\\ReSync\\\\functions\\\\main_resync.py'>"
      ]
     },
     "execution_count": 6,
     "metadata": {},
     "output_type": "execute_result"
    }
   ],
   "source": [
    "importlib.reload(plot)\n",
    "importlib.reload(preproc)\n",
    "importlib.reload(utils)\n",
    "importlib.reload(artefact)\n",
    "importlib.reload(crop)\n",
    "importlib.reload(resync)\n",
    "#importlib.reload(plot_interact)"
   ]
  },
  {
   "attachments": {},
   "cell_type": "markdown",
   "metadata": {},
   "source": [
    "#### Load your own LFP data: ####\n",
    "\n",
    "Resulting variables needed for subsequent analysis:\n",
    "- LFP_array (np.ndarray, 6d): the LFP recording which has to be aligned, containing all channels\n",
    "- lfp_sig (np.ndarray, 1d): the channel containing the LFP signal from the hemisphere where the stimulation was delivered to create artefacts\n",
    "- LFP_rec_ch_names (list): names of all the channels, in a list (will be used to annotate cropped recording)\n"
   ]
  },
  {
   "cell_type": "code",
   "execution_count": 8,
   "metadata": {},
   "outputs": [
    {
     "name": "stdout",
     "output_type": "stream",
     "text": [
      "working dir to go fetch PyPerceive functions:c:\\Users\\Juliette\\Research\\Projects\\Synchronization_project\\Code\\PyPerceive\\code\n",
      "working dir set back to:c:\\Users\\Juliette\\Research\\Projects\\Synchronization_project\\Code\\ReSync\n"
     ]
    }
   ],
   "source": [
    "# load pyPerceive functions\n",
    "os.chdir(os.path.dirname(os.getcwd()))\n",
    "os.chdir(os.path.join(os.getcwd(), 'PyPerceive'))\n",
    "os.chdir(os.path.join(os.getcwd(), 'code'))\n",
    "pyPerceive_path = os.getcwd()\n",
    "print (f'working dir to go fetch PyPerceive functions:{pyPerceive_path}')\n",
    "\n",
    "from PerceiveImport.classes import (\n",
    "    main_class, modality_class, metadata_class,\n",
    "    session_class, condition_class, task_class,\n",
    "    contact_class, run_class\n",
    ")\n",
    "import PerceiveImport.methods.load_rawfile as load_rawfile\n",
    "import PerceiveImport.methods.find_folders as find_folders\n",
    "import PerceiveImport.methods.metadata_helpers as metaHelpers\n",
    "\n",
    "#reset the proper working directory for the analysis\n",
    "os.chdir(project_path)\n",
    "print (f'working dir set back to:{project_path}')"
   ]
  },
  {
   "cell_type": "code",
   "execution_count": 9,
   "metadata": {},
   "outputs": [
    {
     "name": "stdout",
     "output_type": "stream",
     "text": [
      "\n",
      "\t### WARNING: NaNs in Metadata Table sub-041 ###\n",
      "NaNs in: sub-20220404PStn_ses-2022071206564297_run-BrainSense20220712073400.mat\n",
      "NaNs in: sub-20220404PStn_ses-2022071206564297_run-BrainSense20220712075100.mat\n",
      "NaNs in: sub-20220404PStn_ses-2022071206564297_run-BrainSense20220712080900.mat\n",
      "NaNs in: sub-20220404PStn_ses-2022071206564297_run-BrainSense20220712082700.mat\n",
      "NaNs in: sub-20220404PStn_ses-2022071206564297_run-BrainSense20220712084400.mat\n",
      "add run 1\n",
      "Creating RawArray with float64 data, n_channels=6, n_times=69063\n",
      "    Range : 0 ... 69062 =      0.000 ...   276.248 secs\n",
      "Ready.\n",
      "add run 1\n",
      "Creating RawArray with float64 data, n_channels=6, n_times=78937\n",
      "    Range : 0 ... 78936 =      0.000 ...   315.744 secs\n",
      "Ready.\n",
      "add run 2\n",
      "Creating RawArray with float64 data, n_channels=6, n_times=107625\n",
      "    Range : 0 ... 107624 =      0.000 ...   430.496 secs\n",
      "Ready.\n",
      "add run 3\n",
      "Creating RawArray with float64 data, n_channels=6, n_times=27938\n",
      "    Range : 0 ... 27937 =      0.000 ...   111.748 secs\n",
      "Ready.\n",
      "add run 4\n",
      "Creating RawArray with float64 data, n_channels=6, n_times=37562\n",
      "    Range : 0 ... 37561 =      0.000 ...   150.244 secs\n",
      "Ready.\n",
      "The data object has:\n",
      "\t69063 time samples,\n",
      "\tand a sample frequency of 250.0 Hz\n",
      "\twith a recording duration of 276.252 seconds.\n",
      "\t6 channels were labeled as \n",
      "['LFP_L_13_STN_MT', 'LFP_R_02_STN_MT', 'LFP_L_13_STN_MT_PEAK19Hz_THR20-30_AVG3000ms', 'LFP_R_02_STN_MT_PEAK17Hz_THR20-30_AVG3000ms', 'STIM_L_85Hz_60us', 'STIM_R_85Hz_60us'].\n",
      "The channel containing artefacts has index 0 and is named LFP_L_13_STN_MT\n"
     ]
    }
   ],
   "source": [
    "# choose LFP file\n",
    "sub041 = main_class.PerceiveData(\n",
    "    sub = \"041\", \n",
    "    incl_modalities=['streaming'],\n",
    "    incl_session = [\"fu18m\"],\n",
    "    incl_condition =['m0s0','m0s1','m1s0','m1s1'],\n",
    "    incl_task = [\"rest\",\"fingerTap\"],\n",
    "    # incl_contact = [\"RingL\", \"SegmInterR\", \"SegmIntraR\"],\n",
    "    import_json=False,\n",
    "    warn_for_metaNaNs=True,\n",
    "    allow_NaNs_in_metadata=False\n",
    ")\n",
    "\n",
    "# define LFP data\n",
    "LFP_rec = sub041.streaming.fu18m.m1s0.rest.run1.data\n",
    "LFP_array = LFP_rec.get_data()\n",
    "ch_i = 0 #choose index of the channel containing the stim artefacts (O for left hemisphere, 1 for right hemisphere)\n",
    "lfp_sig = LFP_rec.get_data()[ch_i]\n",
    "LFP_rec_ch_names = LFP_rec.ch_names\n",
    "\n",
    "n_chan = len(LFP_rec.ch_names)\n",
    "time_duration_LFP = (LFP_rec.n_times/LFP_rec.info['sfreq']).astype(float)\n",
    "print(     \n",
    "\tf'The data object has:\\n\\t{LFP_rec.n_times} time samples,'      \n",
    "\tf'\\n\\tand a sample frequency of {LFP_rec.info[\"sfreq\"]} Hz'      \n",
    "\tf'\\n\\twith a recording duration of {time_duration_LFP} seconds.'      \n",
    "\tf'\\n\\t{n_chan} channels were labeled as \\n{LFP_rec.ch_names}.')\n",
    "print(f'The channel containing artefacts has index {ch_i} and is named {LFP_rec.ch_names[ch_i]}')"
   ]
  },
  {
   "cell_type": "code",
   "execution_count": 119,
   "metadata": {},
   "outputs": [
    {
     "name": "stdout",
     "output_type": "stream",
     "text": [
      "\n",
      "\t### WARNING: NaNs in Metadata Table sub-055 ###\n",
      "NaNs in: sub-20220726PStn_ses-2022080107125699_run-BrainSense20220801072200.mat\n",
      "NaNs in: sub-20220726PStn_ses-2022080107125699_run-BrainSense20220801074400.mat\n",
      "NaNs in: sub-20220726PStn_ses-2022080107125699_run-BrainSense20220801074700.mat\n",
      "add run 1\n",
      "Creating RawArray with float64 data, n_channels=6, n_times=75313\n",
      "    Range : 0 ... 75312 =      0.000 ...   301.248 secs\n",
      "Ready.\n",
      "add run 1\n",
      "Creating RawArray with float64 data, n_channels=6, n_times=220000\n",
      "    Range : 0 ... 219999 =      0.000 ...   879.996 secs\n",
      "Ready.\n",
      "add run 1\n",
      "Creating RawArray with float64 data, n_channels=6, n_times=76688\n",
      "    Range : 0 ... 76687 =      0.000 ...   306.748 secs\n",
      "Ready.\n",
      "add run 1\n",
      "Creating RawArray with float64 data, n_channels=6, n_times=202375\n",
      "    Range : 0 ... 202374 =      0.000 ...   809.496 secs\n",
      "Ready.\n",
      "The data object has:\n",
      "\t76688 time samples,\n",
      "\tand a sample frequency of 250.0 Hz\n",
      "\twith a recording duration of 306.752 seconds.\n",
      "\t6 channels were labeled as \n",
      "['LFP_L_02_STN_MT', 'LFP_R_02_STN_MT', 'LFP_L_02_STN_MT_PEAK18Hz_THR20-30_AVG3000ms', 'LFP_R_02_STN_MT_PEAK18Hz_THR20-30_AVG3000ms', 'STIM_L_110Hz_60us', 'STIM_R_110Hz_60us'].\n",
      "The channel containing artefacts has index 0 and is named LFP_L_02_STN_MT\n"
     ]
    }
   ],
   "source": [
    "# choose LFP file\n",
    "sub055 = main_class.PerceiveData(\n",
    "    sub = \"055\", \n",
    "    incl_modalities=['streaming'],\n",
    "    incl_session = [\"fu12m\"],\n",
    "    incl_condition =['m0s0','m0s1','m1s0','m1s1'],\n",
    "    incl_task = [\"rest\",\"fingerTap\"],\n",
    "    # incl_contact = [\"RingL\", \"SegmInterR\", \"SegmIntraR\"],\n",
    "    import_json=False,\n",
    "    warn_for_metaNaNs=True,\n",
    "    allow_NaNs_in_metadata=False\n",
    ")\n",
    "\n",
    "# define LFP data\n",
    "LFP_rec = sub055.streaming.fu12m.m1s0.rest.run1.data\n",
    "LFP_array = LFP_rec.get_data()\n",
    "ch_i = 0 #choose index of the channel containing the stim artefacts (O for left hemisphere, 1 for right hemisphere)\n",
    "lfp_sig = LFP_rec.get_data()[ch_i]\n",
    "LFP_rec_ch_names = LFP_rec.ch_names\n",
    "\n",
    "n_chan = len(LFP_rec.ch_names)\n",
    "time_duration_LFP = (LFP_rec.n_times/LFP_rec.info['sfreq']).astype(float)\n",
    "print(     \n",
    "\tf'The data object has:\\n\\t{LFP_rec.n_times} time samples,'      \n",
    "\tf'\\n\\tand a sample frequency of {LFP_rec.info[\"sfreq\"]} Hz'      \n",
    "\tf'\\n\\twith a recording duration of {time_duration_LFP} seconds.'      \n",
    "\tf'\\n\\t{n_chan} channels were labeled as \\n{LFP_rec.ch_names}.')\n",
    "print(f'The channel containing artefacts has index {ch_i} and is named {LFP_rec.ch_names[ch_i]}')"
   ]
  },
  {
   "cell_type": "code",
   "execution_count": 138,
   "metadata": {},
   "outputs": [
    {
     "name": "stdout",
     "output_type": "stream",
     "text": [
      "\n",
      "\t### WARNING: NaNs in Metadata Table sub-023 ###\n",
      "NaNs in: sub-20210608PStn_ses-2022080206582480_run-BrainSense20220802071600.mat\n",
      "NaNs in: sub-20210608PStn_ses-2022080206582480_run-BrainSense20220802073500.mat\n",
      "NaNs in: sub-20210608PStn_ses-2022080206582480_run-BrainSense20220802073800.mat\n",
      "NaNs in: sub-20210608PStn_ses-2022080207424780_run-BrainSense20220802075000.mat\n",
      "NaNs in: sub-20210608PStn_ses-2022080207424780_run-BrainSense20220802080000.mat\n",
      "NaNs in: sub-20210608PStn_ses-2022080207424780_run-BrainSense20220802080300.mat\n",
      "NaNs in: sub-20210608PStn_ses-2022080307160880_run-BrainSense20220803072600.mat\n",
      "NaNs in: sub-20210608PStn_ses-2022080307160880_run-BrainSense20220803074100.mat\n",
      "NaNs in: sub-20210608PStn_ses-2022080307160880_run-BrainSense20220803074300.mat\n",
      "NaNs in: sub-20210608PStn_ses-2022080307160880_run-BrainSense20220803074900.mat\n",
      "NaNs in: sub-20210608PStn_ses-2022080307160880_run-BrainSense20220803075200.mat\n",
      "NaNs in: sub-20210608PStn_ses-2022080307160880_run-BrainSense20220803075700.mat\n",
      "NaNs in: sub-20210608PStn_ses-2022080308044380_run-BrainSense20220803081000.mat\n",
      "NaNs in: sub-20210608PStn_ses-2022080308044380_run-BrainSense20220803081200.mat\n",
      "NaNs in: sub-20210608PStn_ses-2022080308044380_run-BrainSense20220803081300.mat\n",
      "NaNs in: sub-20210608PStn_ses-2022080308044380_run-BrainSense20220803081500.mat\n",
      "NaNs in: nan\n",
      "NaNs in: nan\n",
      "NaNs in: nan\n",
      "NaNs in: nan\n",
      "NaNs in: nan\n",
      "NaNs in: nan\n",
      "NaNs in: nan\n",
      "NaNs in: nan\n",
      "NaNs in: nan\n",
      "NaNs in: nan\n",
      "NaNs in: nan\n",
      "NaNs in: nan\n",
      "NaNs in: nan\n",
      "NaNs in: nan\n",
      "NaNs in: nan\n",
      "NaNs in: nan\n",
      "NaNs in: nan\n",
      "NaNs in: nan\n",
      "NaNs in: nan\n",
      "NaNs in: nan\n",
      "NaNs in: nan\n",
      "NaNs in: nan\n",
      "NaNs in: nan\n",
      "NaNs in: nan\n",
      "NaNs in: nan\n",
      "NaNs in: nan\n",
      "NaNs in: nan\n",
      "NaNs in: nan\n",
      "NaNs in: nan\n",
      "NaNs in: nan\n",
      "NaNs in: nan\n",
      "NaNs in: nan\n",
      "NaNs in: nan\n",
      "NaNs in: nan\n",
      "NaNs in: nan\n",
      "NaNs in: nan\n",
      "NaNs in: nan\n",
      "NaNs in: nan\n",
      "NaNs in: nan\n",
      "NaNs in: nan\n",
      "NaNs in: nan\n",
      "NaNs in: nan\n",
      "NaNs in: nan\n",
      "NaNs in: nan\n",
      "NaNs in: nan\n",
      "NaNs in: nan\n",
      "NaNs in: nan\n",
      "NaNs in: nan\n",
      "NaNs in: nan\n",
      "NaNs in: nan\n",
      "NaNs in: nan\n",
      "NaNs in: nan\n",
      "NaNs in: nan\n",
      "NaNs in: nan\n",
      "NaNs in: nan\n",
      "NaNs in: nan\n",
      "NaNs in: nan\n",
      "NaNs in: nan\n",
      "NaNs in: nan\n",
      "add run 1\n",
      "Creating RawArray with float64 data, n_channels=6, n_times=41125\n",
      "    Range : 0 ... 41124 =      0.000 ...   164.496 secs\n",
      "Ready.\n",
      "The data object has:\n",
      "\t41125 time samples,\n",
      "\tand a sample frequency of 250.0 Hz\n",
      "\twith a recording duration of 164.5 seconds.\n",
      "\t6 channels were labeled as \n",
      "['LFP_L_13_STN_MT', 'LFP_R_13_STN_MT', 'LFP_L_13_STN_MT_PEAK13Hz_THR20-30_AVG3000ms', 'LFP_R_13_STN_MT_PEAK17Hz_THR20-30_AVG3000ms', 'STIM_L_110Hz_60us', 'STIM_R_110Hz_60us'].\n",
      "The channel containing artefacts has index 0 and is named LFP_L_13_STN_MT\n"
     ]
    }
   ],
   "source": [
    "# choose LFP file\n",
    "sub023 = main_class.PerceiveData(\n",
    "    sub = \"023\", \n",
    "    incl_modalities=['streaming'],\n",
    "    incl_session = [\"fu18m\"],\n",
    "    incl_condition =['m0s0','m0s1','m1s0','m1s1'],\n",
    "    incl_task = [\"rest\",\"fingerTap\"],\n",
    "    # incl_contact = [\"RingL\", \"SegmInterR\", \"SegmIntraR\"],\n",
    "    import_json=False,\n",
    "    warn_for_metaNaNs=True,\n",
    "    allow_NaNs_in_metadata=False\n",
    ")\n",
    "\n",
    "# define LFP data\n",
    "LFP_rec = sub023.streaming.fu18m.m1s0.rest.run1.data\n",
    "LFP_array = LFP_rec.get_data()\n",
    "ch_i = 0 #choose index of the channel containing the stim artefacts (O for left hemisphere, 1 for right hemisphere)\n",
    "lfp_sig = LFP_rec.get_data()[ch_i]\n",
    "LFP_rec_ch_names = LFP_rec.ch_names\n",
    "\n",
    "n_chan = len(LFP_rec.ch_names)\n",
    "time_duration_LFP = (LFP_rec.n_times/LFP_rec.info['sfreq']).astype(float)\n",
    "print(     \n",
    "\tf'The data object has:\\n\\t{LFP_rec.n_times} time samples,'      \n",
    "\tf'\\n\\tand a sample frequency of {LFP_rec.info[\"sfreq\"]} Hz'      \n",
    "\tf'\\n\\twith a recording duration of {time_duration_LFP} seconds.'      \n",
    "\tf'\\n\\t{n_chan} channels were labeled as \\n{LFP_rec.ch_names}.')\n",
    "print(f'The channel containing artefacts has index {ch_i} and is named {LFP_rec.ch_names[ch_i]}')"
   ]
  },
  {
   "cell_type": "code",
   "execution_count": 145,
   "metadata": {},
   "outputs": [
    {
     "name": "stdout",
     "output_type": "stream",
     "text": [
      "\n",
      "\t### WARNING: NaNs in Metadata Table sub-041 ###\n",
      "NaNs in: sub-20220404PStn_ses-2022071206564297_run-BrainSense20220712073400.mat\n",
      "NaNs in: sub-20220404PStn_ses-2022071206564297_run-BrainSense20220712075100.mat\n",
      "NaNs in: sub-20220404PStn_ses-2022071206564297_run-BrainSense20220712080900.mat\n",
      "NaNs in: sub-20220404PStn_ses-2022071206564297_run-BrainSense20220712082700.mat\n",
      "NaNs in: sub-20220404PStn_ses-2022071206564297_run-BrainSense20220712084400.mat\n",
      "add run 1\n",
      "Creating RawArray with float64 data, n_channels=6, n_times=69063\n",
      "    Range : 0 ... 69062 =      0.000 ...   276.248 secs\n",
      "Ready.\n",
      "add run 1\n",
      "Creating RawArray with float64 data, n_channels=6, n_times=78937\n",
      "    Range : 0 ... 78936 =      0.000 ...   315.744 secs\n",
      "Ready.\n",
      "add run 2\n",
      "Creating RawArray with float64 data, n_channels=6, n_times=107625\n",
      "    Range : 0 ... 107624 =      0.000 ...   430.496 secs\n",
      "Ready.\n",
      "add run 3\n",
      "Creating RawArray with float64 data, n_channels=6, n_times=27938\n",
      "    Range : 0 ... 27937 =      0.000 ...   111.748 secs\n",
      "Ready.\n",
      "add run 4\n",
      "Creating RawArray with float64 data, n_channels=6, n_times=37562\n",
      "    Range : 0 ... 37561 =      0.000 ...   150.244 secs\n",
      "Ready.\n",
      "The data object has:\n",
      "\t69063 time samples,\n",
      "\tand a sample frequency of 250.0 Hz\n",
      "\twith a recording duration of 276.252 seconds.\n",
      "\t6 channels were labeled as \n",
      "['LFP_L_13_STN_MT', 'LFP_R_02_STN_MT', 'LFP_L_13_STN_MT_PEAK19Hz_THR20-30_AVG3000ms', 'LFP_R_02_STN_MT_PEAK17Hz_THR20-30_AVG3000ms', 'STIM_L_85Hz_60us', 'STIM_R_85Hz_60us'].\n",
      "The channel containing artefacts has index 0 and is named LFP_L_13_STN_MT\n"
     ]
    }
   ],
   "source": [
    "# choose LFP file\n",
    "sub041 = main_class.PerceiveData(\n",
    "    sub = \"041\", \n",
    "    incl_modalities=['streaming'],\n",
    "    incl_session = [\"fu18m\"],\n",
    "    incl_condition =['m0s0','m0s1','m1s0','m1s1'],\n",
    "    incl_task = [\"rest\",\"fingerTap\"],\n",
    "    # incl_contact = [\"RingL\", \"SegmInterR\", \"SegmIntraR\"],\n",
    "    import_json=False,\n",
    "    warn_for_metaNaNs=True,\n",
    "    allow_NaNs_in_metadata=False\n",
    ")\n",
    "\n",
    "# define LFP data\n",
    "LFP_rec = sub041.streaming.fu18m.m1s0.rest.run1.data\n",
    "LFP_array = LFP_rec.get_data()\n",
    "ch_i = 0 #choose index of the channel containing the stim artefacts (O for left hemisphere, 1 for right hemisphere)\n",
    "lfp_sig = LFP_rec.get_data()[ch_i]\n",
    "LFP_rec_ch_names = LFP_rec.ch_names\n",
    "\n",
    "n_chan = len(LFP_rec.ch_names)\n",
    "time_duration_LFP = (LFP_rec.n_times/LFP_rec.info['sfreq']).astype(float)\n",
    "print(     \n",
    "\tf'The data object has:\\n\\t{LFP_rec.n_times} time samples,'      \n",
    "\tf'\\n\\tand a sample frequency of {LFP_rec.info[\"sfreq\"]} Hz'      \n",
    "\tf'\\n\\twith a recording duration of {time_duration_LFP} seconds.'      \n",
    "\tf'\\n\\t{n_chan} channels were labeled as \\n{LFP_rec.ch_names}.')\n",
    "print(f'The channel containing artefacts has index {ch_i} and is named {LFP_rec.ch_names[ch_i]}')"
   ]
  },
  {
   "cell_type": "code",
   "execution_count": 143,
   "metadata": {},
   "outputs": [
    {
     "name": "stdout",
     "output_type": "stream",
     "text": [
      "\n",
      "\t### WARNING: NaNs in Metadata Table sub-028 ###\n",
      "NaNs in: sub028_ses-2021081906332499_run-BrainSense20210819065100.mat\n",
      "NaNs in: sub028_ses-2021081906332499_run-BrainSense20210819065600.mat\n",
      "NaNs in: sub028_ses-2021081906332499_run-BrainSense20210819065800.mat\n",
      "NaNs in: sub028_ses-2021081906332499_run-BrainSense20210819070000.mat\n",
      "NaNs in: sub028_ses-2021082008171699_run-BrainSense20210820082700.mat\n",
      "NaNs in: sub028_ses-2021082008171699_run-BrainSense20210820083000.mat\n",
      "NaNs in: sub028_ses-2021082008171699_run-BrainSense20210820083200.mat\n",
      "NaNs in: sub028_ses-2021082008171699_run-BrainSense20210820083500.mat\n",
      "NaNs in: sub028_ses-2021082008171699_run-CHRONIC20210819083821.mat\n",
      "NaNs in: sub-20210817PStn_ses-2022082508081583_run-BrainSense20220825082500.mat\n",
      "NaNs in: sub-20210817PStn_ses-2022082508081583_run-BrainSense20220825082800.mat\n",
      "NaNs in: sub-20210817PStn_ses-2022082508081583_run-BrainSense20220825084600.mat\n",
      "NaNs in: sub-20210817PStn_ses-2022082508081583_run-BrainSense20220825084900.mat\n",
      "NaNs in: sub-20210817PStn_ses-2022082508081583_run-BrainSense20220825085100.mat\n",
      "NaNs in: sub-20210817PStn_ses-2022082508081583_run-BrainSense20220825090200.mat\n",
      "NaNs in: sub-20210817PStn_ses-2022082509071883_run-BrainSense20220825091600.mat\n",
      "NaNs in: sub-20210817PStn_ses-2022082509071883_run-BrainSense20220825093100.mat\n",
      "NaNs in: sub-20210817PStn_ses-2022082509071883_run-BrainSense20220825093400.mat\n",
      "NaNs in: sub-20210817PStn_ses-2022081807180683_run-BrainSense20220818073100.mat\n",
      "NaNs in: sub-20210817PStn_ses-2022081807180683_run-BrainSense20220818075000.mat\n",
      "NaNs in: sub-20210817PStn_ses-2022081807180683_run-BrainSense20220818075500.mat\n",
      "NaNs in: sub-20210817PStn_ses-2022081807180683_run-BrainSense20220818075700.mat\n",
      "NaNs in: sub-20210817PStn_ses-2022081807180683_run-BrainSense20220818080600.mat\n",
      "NaNs in: sub-20210817PStn_ses-2022081807180683_run-BrainSense20220818082300.mat\n",
      "NaNs in: sub-20210817PStn_ses-2022081807180683_run-BrainSense20220818082800.mat\n",
      "NaNs in: sub-20210817PStn_ses-2022081807180683_run-BrainSense20220818083200.mat\n",
      "NaNs in: sub-20210817PStn_ses-2022081807180683_run-BrainSense20220818083600.mat\n",
      "NaNs in: sub-20210817PStn_ses-2022081807180683_run-BrainSense20220818084000.mat\n",
      "NaNs in: sub-20210817PStn_ses-2022081807180683_run-BrainSense20220818084200.mat\n",
      "NaNs in: sub-20210817PStn_ses-2022081807180683_run-CHRONIC20220817095806.mat\n",
      "NaNs in: sub-20210817PStn_ses-2022082407301783_run-BrainSense20220824074200.mat\n",
      "NaNs in: sub-20210817PStn_ses-2022082407301783_run-BrainSense20220824080500.mat\n",
      "NaNs in: sub-20210817PStn_ses-2022082407301783_run-BrainSense20220824080800.mat\n",
      "NaNs in: sub-20210817PStn_ses-2022082407301783_run-BrainSense20220824081300.mat\n",
      "NaNs in: sub-20210817PStn_ses-2022082407301783_run-BrainSense20220824081500.mat\n",
      "NaNs in: sub-20210817PStn_ses-2022082407301783_run-BrainSense20220824081600.mat\n",
      "NaNs in: sub-20210817PStn_ses-2022082407301783_run-BrainSense20220824081900.mat\n",
      "NaNs in: sub-20210817PStn_ses-2022082407301783_run-BrainSense20220824082800.mat\n",
      "NaNs in: sub-20210817PStn_ses-2022082407301783_run-BrainSense20220824083800.mat\n",
      "NaNs in: sub-20210817PStn_ses-2022082407301783_run-BrainSense20220824084000.mat\n",
      "NaNs in: sub-20210817PStn_ses-2022082407301783_run-BrainSense20220824084300.mat\n",
      "NaNs in: sub-20210817PStn_ses-2022082407301783_run-BrainSense20220824084500.mat\n",
      "NaNs in: sub-20210817PStn_ses-2022082407301783_run-BrainSense20220824084600.mat\n",
      "NaNs in: sub-20210817PStn_ses-2022082407301783_run-BrainSense20220824084900.mat\n",
      "NaNs in: sub-20210817PStn_ses-2022082407301783_run-CHRONIC20220818023931.mat\n",
      "add run 1\n",
      "Creating RawArray with float64 data, n_channels=6, n_times=65813\n",
      "    Range : 0 ... 65812 =      0.000 ...   263.248 secs\n",
      "Ready.\n",
      "add run 1\n",
      "Creating RawArray with float64 data, n_channels=6, n_times=132250\n",
      "    Range : 0 ... 132249 =      0.000 ...   528.996 secs\n",
      "Ready.\n",
      "add run 1\n",
      "Creating RawArray with float64 data, n_channels=6, n_times=65500\n",
      "    Range : 0 ... 65499 =      0.000 ...   261.996 secs\n",
      "Ready.\n",
      "add run 1\n",
      "Creating RawArray with float64 data, n_channels=6, n_times=133000\n",
      "    Range : 0 ... 132999 =      0.000 ...   531.996 secs\n",
      "Ready.\n",
      "The data object has:\n",
      "\t133000 time samples,\n",
      "\tand a sample frequency of 250.0 Hz\n",
      "\twith a recording duration of 532.0 seconds.\n",
      "\t6 channels were labeled as \n",
      "['LFP_L_03_STN_MT', 'LFP_R_02_STN_MT', 'LFP_L_03_STN_MT_PEAK23Hz_THR20-30_AVG3000ms', 'LFP_R_02_STN_MT_PEAK24Hz_THR20-30_AVG3000ms', 'STIM_L_125Hz_60us', 'STIM_R_125Hz_60us'].\n",
      "The channel containing artefacts has index 0 and is named LFP_L_03_STN_MT\n"
     ]
    }
   ],
   "source": [
    "# choose LFP file\n",
    "sub028 = main_class.PerceiveData(\n",
    "    sub = \"028\", \n",
    "    incl_modalities=['streaming'],\n",
    "    incl_session = [\"fu24m\"],\n",
    "    incl_condition =['m0s0','m0s1','m1s0','m1s1'],\n",
    "    incl_task = [\"rest\",\"fingerTap\"],\n",
    "    # incl_contact = [\"RingL\", \"SegmInterR\", \"SegmIntraR\"],\n",
    "    import_json=False,\n",
    "    warn_for_metaNaNs=True,\n",
    "    allow_NaNs_in_metadata=False\n",
    ")\n",
    "\n",
    "# define LFP data\n",
    "LFP_rec = sub028.streaming.fu24m.m1s1.rest.run1.data\n",
    "LFP_array = LFP_rec.get_data()\n",
    "ch_i = 0 #choose index of the channel containing the stim artefacts (O for left hemisphere, 1 for right hemisphere)\n",
    "lfp_sig = LFP_rec.get_data()[ch_i]\n",
    "LFP_rec_ch_names = LFP_rec.ch_names\n",
    "\n",
    "n_chan = len(LFP_rec.ch_names)\n",
    "time_duration_LFP = (LFP_rec.n_times/LFP_rec.info['sfreq']).astype(float)\n",
    "print(     \n",
    "\tf'The data object has:\\n\\t{LFP_rec.n_times} time samples,'      \n",
    "\tf'\\n\\tand a sample frequency of {LFP_rec.info[\"sfreq\"]} Hz'      \n",
    "\tf'\\n\\twith a recording duration of {time_duration_LFP} seconds.'      \n",
    "\tf'\\n\\t{n_chan} channels were labeled as \\n{LFP_rec.ch_names}.')\n",
    "print(f'The channel containing artefacts has index {ch_i} and is named {LFP_rec.ch_names[ch_i]}')"
   ]
  },
  {
   "cell_type": "code",
   "execution_count": 132,
   "metadata": {},
   "outputs": [
    {
     "name": "stdout",
     "output_type": "stream",
     "text": [
      "add run 1\n",
      "Creating RawArray with float64 data, n_channels=6, n_times=79000\n",
      "    Range : 0 ... 78999 =      0.000 ...   315.996 secs\n",
      "Ready.\n",
      "add run 1\n",
      "Creating RawArray with float64 data, n_channels=6, n_times=197625\n",
      "    Range : 0 ... 197624 =      0.000 ...   790.496 secs\n",
      "Ready.\n",
      "add run 1\n",
      "Creating RawArray with float64 data, n_channels=6, n_times=74000\n",
      "    Range : 0 ... 73999 =      0.000 ...   295.996 secs\n",
      "Ready.\n",
      "add run 1\n",
      "Creating RawArray with float64 data, n_channels=6, n_times=224625\n",
      "    Range : 0 ... 224624 =      0.000 ...   898.496 secs\n",
      "Ready.\n",
      "The data object has:\n",
      "\t224625 time samples,\n",
      "\tand a sample frequency of 250.0 Hz\n",
      "\twith a recording duration of 898.5 seconds.\n",
      "\t6 channels were labeled as \n",
      "['LFP_L_13_STN_MT', 'LFP_R_02_STN_MT', 'LFP_L_13_STN_MT_PEAK7Hz_THR20-30_AVG3000ms', 'LFP_R_02_STN_MT_PEAK17Hz_THR20-30_AVG3000ms', 'STIM_L_125Hz_60us', 'STIM_R_125Hz_60us'].\n",
      "The channel containing artefacts has index 0 and is named LFP_L_13_STN_MT\n"
     ]
    }
   ],
   "source": [
    "# choose LFP file\n",
    "sub042 = main_class.PerceiveData(\n",
    "    sub = \"042\", \n",
    "    incl_modalities=['streaming'],\n",
    "    incl_session = [\"fu12m\"],\n",
    "    incl_condition =['m0s0','m0s1','m1s0','m1s1'],\n",
    "    incl_task = [\"rest\",\"fingerTap\"],\n",
    "    # incl_contact = [\"RingL\", \"SegmInterR\", \"SegmIntraR\"],\n",
    "    import_json=False,\n",
    "    warn_for_metaNaNs=True,\n",
    "    allow_NaNs_in_metadata=False\n",
    ")\n",
    "\n",
    "# define LFP data\n",
    "LFP_rec = sub042.streaming.fu12m.m1s1.rest.run1.data\n",
    "LFP_array = LFP_rec.get_data()\n",
    "ch_i = 0 #choose index of the channel containing the stim artefacts (O for left hemisphere, 1 for right hemisphere)\n",
    "lfp_sig = LFP_rec.get_data()[ch_i]\n",
    "LFP_rec_ch_names = LFP_rec.ch_names\n",
    "\n",
    "n_chan = len(LFP_rec.ch_names)\n",
    "time_duration_LFP = (LFP_rec.n_times/LFP_rec.info['sfreq']).astype(float)\n",
    "print(     \n",
    "\tf'The data object has:\\n\\t{LFP_rec.n_times} time samples,'      \n",
    "\tf'\\n\\tand a sample frequency of {LFP_rec.info[\"sfreq\"]} Hz'      \n",
    "\tf'\\n\\twith a recording duration of {time_duration_LFP} seconds.'      \n",
    "\tf'\\n\\t{n_chan} channels were labeled as \\n{LFP_rec.ch_names}.')\n",
    "print(f'The channel containing artefacts has index {ch_i} and is named {LFP_rec.ch_names[ch_i]}')"
   ]
  },
  {
   "cell_type": "code",
   "execution_count": 148,
   "metadata": {},
   "outputs": [
    {
     "name": "stdout",
     "output_type": "stream",
     "text": [
      "\n",
      "\t### WARNING: NaNs in Metadata Table sub-036 ###\n",
      "NaNs in: sub-20220127PStn_ses-2023012707395286_run-BrainSense20230127075300\n",
      "NaNs in: sub-20220127PStn_ses-2023012707395286_run-BrainSense20230127075900.mat\n",
      "NaNs in: sub-20220127PStn_ses-2023012707395286_run-BrainSense20230127081100.mat\n",
      "NaNs in: sub-20220127PStn_ses-2023012707395286_run-BrainSense20230127081300.mat\n",
      "NaNs in: sub-20220127PStn_ses-2023012707395286_run-BrainSense20230127081800.mat\n",
      "NaNs in: sub-20220127PStn_ses-2023012707395286_run-BrainSense20230127082100.mat\n",
      "NaNs in: sub-20220127PStn_ses-2023012707395286_run-BrainSense20230127083400.mat\n",
      "NaNs in: sub-20220127PStn_ses-2023012707395286_run-BrainSense20230127084200.mat\n",
      "NaNs in: sub-20220127PStn_ses-2023012707395286_run-BrainSense20230127084500.mat\n",
      "add run 1\n",
      "Creating RawArray with float64 data, n_channels=6, n_times=72313\n",
      "    Range : 0 ... 72312 =      0.000 ...   289.248 secs\n",
      "Ready.\n",
      "add run 1\n",
      "Creating RawArray with float64 data, n_channels=6, n_times=245625\n",
      "    Range : 0 ... 245624 =      0.000 ...   982.496 secs\n",
      "Ready.\n",
      "add run 1\n",
      "Creating RawArray with float64 data, n_channels=6, n_times=75063\n",
      "    Range : 0 ... 75062 =      0.000 ...   300.248 secs\n",
      "Ready.\n",
      "add run 1\n",
      "Creating RawArray with float64 data, n_channels=6, n_times=109000\n",
      "    Range : 0 ... 108999 =      0.000 ...   435.996 secs\n",
      "Ready.\n",
      "add run 2\n",
      "Creating RawArray with float64 data, n_channels=6, n_times=112375\n",
      "    Range : 0 ... 112374 =      0.000 ...   449.496 secs\n",
      "Ready.\n",
      "The data object has:\n",
      "\t72313 time samples,\n",
      "\tand a sample frequency of 250.0 Hz\n",
      "\twith a recording duration of 289.252 seconds.\n",
      "\t6 channels were labeled as \n",
      "['LFP_L_03_STN_MT', 'LFP_R_03_STN_MT', 'LFP_L_03_STN_MT_PEAK15Hz_THR20-30_AVG3000ms', 'LFP_R_03_STN_MT_PEAK14Hz_THR20-30_AVG3000ms', 'STIM_L_110Hz_40us', 'STIM_R_110Hz_40us'].\n",
      "The channel containing artefacts has index 0 and is named LFP_L_03_STN_MT\n"
     ]
    }
   ],
   "source": [
    "# choose LFP file\n",
    "sub036 = main_class.PerceiveData(\n",
    "    sub = \"036\", \n",
    "    incl_modalities=['streaming'],\n",
    "    incl_session = [\"fu18m\"],\n",
    "    incl_condition =['m0s0','m0s1','m1s0','m1s1'],\n",
    "    incl_task = [\"rest\",\"fingerTap\"],\n",
    "    # incl_contact = [\"RingL\", \"SegmInterR\", \"SegmIntraR\"],\n",
    "    import_json=False,\n",
    "    warn_for_metaNaNs=True,\n",
    "    allow_NaNs_in_metadata=False\n",
    ")\n",
    "\n",
    "# define LFP data\n",
    "LFP_rec = sub036.streaming.fu18m.m0s0.rest.run1.data\n",
    "LFP_array = LFP_rec.get_data()\n",
    "ch_i = 0 #choose index of the channel containing the stim artefacts (O for left hemisphere, 1 for right hemisphere)\n",
    "lfp_sig = LFP_rec.get_data()[ch_i]\n",
    "LFP_rec_ch_names = LFP_rec.ch_names\n",
    "\n",
    "n_chan = len(LFP_rec.ch_names)\n",
    "time_duration_LFP = (LFP_rec.n_times/LFP_rec.info['sfreq']).astype(float)\n",
    "print(     \n",
    "\tf'The data object has:\\n\\t{LFP_rec.n_times} time samples,'      \n",
    "\tf'\\n\\tand a sample frequency of {LFP_rec.info[\"sfreq\"]} Hz'      \n",
    "\tf'\\n\\twith a recording duration of {time_duration_LFP} seconds.'      \n",
    "\tf'\\n\\t{n_chan} channels were labeled as \\n{LFP_rec.ch_names}.')\n",
    "print(f'The channel containing artefacts has index {ch_i} and is named {LFP_rec.ch_names[ch_i]}')"
   ]
  },
  {
   "attachments": {},
   "cell_type": "markdown",
   "metadata": {},
   "source": [
    "#### Load your own external data: ####\n",
    "(our external data recorder is a TMSi Data recorder.)\n",
    "\n",
    "PM: NOTICE THE POP UP WINDOW AFTER RUNNING, TO SELECT THE FILE LOCATION\n",
    "\n",
    "Resulting variables:\n",
    "- external_file (np.ndarray, multi-dimensional): the complete external recording containing all channels recorded\n",
    "- BIP_channel (np.ndarray, 1d): the channel containing the signal from the bipolar electrode used to pick up the artefacts on the IPG/cable\n",
    "- external_rec_ch_names (list, same length as the number of channels in external_file): list of the channels names, to rename them accordingly after alignment"
   ]
  },
  {
   "cell_type": "code",
   "execution_count": 11,
   "metadata": {},
   "outputs": [],
   "source": [
    "import functions.tmsi_poly5reader as poly5_reader\n",
    "import functions.loading_TMSi as loading"
   ]
  },
  {
   "cell_type": "code",
   "execution_count": 12,
   "metadata": {},
   "outputs": [
    {
     "name": "stdout",
     "output_type": "stream",
     "text": [
      "Reading file  C:/Users/Juliette/OneDrive - Charité - Universitätsmedizin Berlin/Recordings/TMSi files/sub-041/sub_041_18MFU_M1S0_BrStr_restTap - 20230907T134210/sub_041_18MFU_M1S0_BrStr_restTap-20230907T134210.DATA.Poly5\n",
      "\t Number of samples:  1276704 \n",
      "\t Number of channels:  12 \n",
      "\t Sample rate: 4096 Hz\n",
      "Done reading data.\n",
      "Creating RawArray with float64 data, n_channels=12, n_times=1276704\n",
      "    Range : 0 ... 1276703 =      0.000 ...   311.695 secs\n",
      "Ready.\n",
      "The data object has:\n",
      "\t1276704 time samples,\n",
      "\tand a sample frequency of 4096.0 Hz\n",
      "\twith a recording duration of 311.6953125 seconds.\n",
      "\t12 channels were labeled as \n",
      "['BIP 01', 'BIP 02', 'BIP 03', 'BIP 04', 'X-0', 'Y-0', 'Z-0', 'X-1', 'Y-1', 'Z-1', 'STATUS', 'Counter 2power24'].\n",
      "the channel used to align datas is the channel named BIP 01 and has index 0\n"
     ]
    },
    {
     "ename": "ValueError",
     "evalue": "too many values to unpack (expected 3)",
     "output_type": "error",
     "traceback": [
      "\u001b[1;31m---------------------------------------------------------------------------\u001b[0m",
      "\u001b[1;31mValueError\u001b[0m                                Traceback (most recent call last)",
      "\u001b[1;32mc:\\Users\\Juliette\\Research\\Projects\\Synchronization_project\\Code\\ReSync\\notebook\\ReSync copy.ipynb Cell 20\u001b[0m line \u001b[0;36m2\n\u001b[0;32m      <a href='vscode-notebook-cell:/c%3A/Users/Juliette/Research/Projects/Synchronization_project/Code/ReSync/notebook/ReSync%20copy.ipynb#X25sZmlsZQ%3D%3D?line=0'>1</a>\u001b[0m TMSi_data \u001b[39m=\u001b[39m poly5_reader\u001b[39m.\u001b[39mPoly5Reader()  \u001b[39m# open TMSi data from poly5\u001b[39;00m\n\u001b[1;32m----> <a href='vscode-notebook-cell:/c%3A/Users/Juliette/Research/Projects/Synchronization_project/Code/ReSync/notebook/ReSync%20copy.ipynb#X25sZmlsZQ%3D%3D?line=1'>2</a>\u001b[0m (BIP_channel,\n\u001b[0;32m      <a href='vscode-notebook-cell:/c%3A/Users/Juliette/Research/Projects/Synchronization_project/Code/ReSync/notebook/ReSync%20copy.ipynb#X25sZmlsZQ%3D%3D?line=2'>3</a>\u001b[0m  external_file,\n\u001b[0;32m      <a href='vscode-notebook-cell:/c%3A/Users/Juliette/Research/Projects/Synchronization_project/Code/ReSync/notebook/ReSync%20copy.ipynb#X25sZmlsZQ%3D%3D?line=3'>4</a>\u001b[0m  external_rec_ch_names) \u001b[39m=\u001b[39m loading\u001b[39m.\u001b[39mload_TMSi_artefact_channel(TMSi_data) \u001b[39m# function adapted for our own data recorder, \u001b[39;00m\n\u001b[0;32m      <a href='vscode-notebook-cell:/c%3A/Users/Juliette/Research/Projects/Synchronization_project/Code/ReSync/notebook/ReSync%20copy.ipynb#X25sZmlsZQ%3D%3D?line=4'>5</a>\u001b[0m \u001b[39m# to load all necessary variables\u001b[39;00m\n",
      "\u001b[1;31mValueError\u001b[0m: too many values to unpack (expected 3)"
     ]
    }
   ],
   "source": [
    "TMSi_data = poly5_reader.Poly5Reader()  # open TMSi data from poly5\n",
    "(BIP_channel,\n",
    " external_file,\n",
    " external_rec_ch_names) = loading.load_TMSi_artefact_channel(TMSi_data) # function adapted for our own data recorder, \n",
    "# to load all necessary variables"
   ]
  },
  {
   "cell_type": "markdown",
   "metadata": {},
   "source": [
    "## **READ ME** ##\n",
    "\n",
    "Before starting the run_resync function, be careful to check that the config file is properly set. In particular, pay attention to:\n",
    "- write the proper subject ID (to not overwrite previous analysis)\n",
    "- write the correct sampling frequencies corresponding to YOUR recordings\n",
    "- by default use kernel \"2\", and set \"real_index_LFP\" to 0 for the first run. This can be adjusted if necessary before re-running.\n",
    "- by default, set \"consider_first_seconds_LFP\", \"consider_first_seconds_external\" and \"ignore_first_seconds_external\" to null. "
   ]
  },
  {
   "cell_type": "markdown",
   "metadata": {},
   "source": [
    "Default parameters to adjust for our systems are:\n",
    "\n",
    "- For TMSi SAGA with sf = 4000Hz or 4096Hz : thresh_external = -0.001, ch_name_BIP = \"BIP 01\"\n",
    "- For TMSi Porti with sf = 2048Hz : thresh_external = -2000, ch_name_BIP = \"Bip25\""
   ]
  },
  {
   "cell_type": "markdown",
   "metadata": {},
   "source": [
    "## PART 2: Align recordings: ##"
   ]
  },
  {
   "cell_type": "code",
   "execution_count": 9,
   "metadata": {},
   "outputs": [
    {
     "data": {
      "text/plain": [
       "<module 'functions.main_resync' from 'c:\\\\Users\\\\Juliette\\\\Research\\\\Projects\\\\Synchronization_project\\\\Code\\\\ReSync\\\\functions\\\\main_resync.py'>"
      ]
     },
     "execution_count": 9,
     "metadata": {},
     "output_type": "execute_result"
    }
   ],
   "source": [
    "importlib.reload(resync)"
   ]
  },
  {
   "cell_type": "code",
   "execution_count": 60,
   "metadata": {},
   "outputs": [],
   "source": [
    "x = (np.array([0.5, 1, -0.5, -2] + list(np.linspace(-2, 0, 20))))*(-1)"
   ]
  },
  {
   "cell_type": "code",
   "execution_count": 61,
   "metadata": {},
   "outputs": [
    {
     "data": {
      "text/plain": [
       "[<matplotlib.lines.Line2D at 0x1315ba7ed40>]"
      ]
     },
     "execution_count": 61,
     "metadata": {},
     "output_type": "execute_result"
    },
    {
     "data": {
      "image/png": "[encoded data removed]",
      "text/plain": [
       "<Figure size 640x480 with 1 Axes>"
      ]
     },
     "metadata": {},
     "output_type": "display_data"
    }
   ],
   "source": [
    "plt.plot(x)"
   ]
  },
  {
   "cell_type": "code",
   "execution_count": 67,
   "metadata": {},
   "outputs": [
    {
     "data": {
      "text/plain": [
       "[<matplotlib.lines.Line2D at 0x13111d280d0>]"
      ]
     },
     "execution_count": 67,
     "metadata": {},
     "output_type": "execute_result"
    },
    {
     "data": {
      "image/png": "[encoded data removed]",
      "text/plain": [
       "<Figure size 640x480 with 1 Axes>"
      ]
     },
     "metadata": {},
     "output_type": "display_data"
    }
   ],
   "source": [
    "# kernel 1 only searches for the steep decrease\n",
    "k1 = np.array([1, -1])\n",
    "plt.plot(k1)"
   ]
  },
  {
   "cell_type": "code",
   "execution_count": 65,
   "metadata": {},
   "outputs": [
    {
     "data": {
      "text/plain": [
       "[<matplotlib.lines.Line2D at 0x1313b4f91b0>]"
      ]
     },
     "execution_count": 65,
     "metadata": {},
     "output_type": "execute_result"
    },
    {
     "data": {
      "image/png": "[encoded data removed]",
      "text/plain": [
       "<Figure size 640x480 with 1 Axes>"
      ]
     },
     "metadata": {},
     "output_type": "display_data"
    }
   ],
   "source": [
    "# kernel 2 is more custom and takes into account the steep decrease and slow recover\n",
    "k2 = np.array([1, 0, -1] + list(np.linspace(-1, 0, 20)))\n",
    "plt.plot(k2)"
   ]
  },
  {
   "cell_type": "code",
   "execution_count": 300,
   "metadata": {},
   "outputs": [
    {
     "data": {
      "text/plain": [
       "<module 'functions.main_resync' from 'c:\\\\Users\\\\Juliette\\\\Research\\\\Projects\\\\Synchronization_project\\\\Code\\\\ReSync\\\\functions\\\\main_resync.py'>"
      ]
     },
     "execution_count": 300,
     "metadata": {},
     "output_type": "execute_result"
    }
   ],
   "source": [
    "importlib.reload(artefact)\n",
    "importlib.reload(resync)"
   ]
  },
  {
   "cell_type": "code",
   "execution_count": 15,
   "metadata": {},
   "outputs": [
    {
     "name": "stdout",
     "output_type": "stream",
     "text": [
      "max: 422.4971860731\n",
      "min: -372.061444697\n",
      "mean: -0.009894282533127793\n",
      "first_positive_peak: 1094, value: 352.8265278086\n",
      "first_negative_peak: 1566, value: -293.1088207246\n",
      "signal is inverted\n"
     ]
    }
   ],
   "source": [
    "#(LFP_df_offset, \n",
    " #external_df_offset) = \n",
    "\n",
    "%matplotlib qt\n",
    "\n",
    "resync.run_resync(\n",
    "    LFP_array=LFP_array,\n",
    "    lfp_sig=lfp_sig,\n",
    "    LFP_rec_ch_names=LFP_rec_ch_names,\n",
    "    external_file=external_file,\n",
    "    BIP_channel=BIP_channel,\n",
    "    external_rec_ch_names=external_rec_ch_names,\n",
    "    SHOW_FIGURES = True\n",
    ")"
   ]
  },
  {
   "cell_type": "code",
   "execution_count": null,
   "metadata": {},
   "outputs": [],
   "source": [
    "importlib.reload(plot)\n",
    "importlib.reload(preproc)\n",
    "importlib.reload(utils)\n",
    "importlib.reload(artefact)\n",
    "importlib.reload(crop)\n",
    "importlib.reload(resync)"
   ]
  },
  {
   "cell_type": "code",
   "execution_count": 120,
   "metadata": {},
   "outputs": [],
   "source": [
    "import json\n",
    "from scipy.signal import find_peaks\n",
    "from itertools import compress"
   ]
  },
  {
   "cell_type": "code",
   "execution_count": 121,
   "metadata": {},
   "outputs": [],
   "source": [
    "def smooth_signal(data, window_size=3):\n",
    "    smoothed_data = np.copy(data)\n",
    "    half_window = window_size // 2\n",
    "    \n",
    "    for i in range(half_window, len(data) - half_window):\n",
    "        smoothed_data[i] = np.mean(data[i - half_window : i + half_window + 1])\n",
    "    \n",
    "    return smoothed_data"
   ]
  },
  {
   "cell_type": "code",
   "execution_count": 122,
   "metadata": {},
   "outputs": [],
   "source": [
    "def plot_LFP_artefact_channel(\n",
    "    sub: str,\n",
    "    timescale: np.ndarray,\n",
    "    data: np.ndarray, \n",
    "    color: str,\n",
    "    savingpath: str,\n",
    "    saving_folder = True\n",
    "):\n",
    "\n",
    "    \"\"\"\n",
    "    Function that plots the selected intracerebral channel for quick visualization (and saving).\n",
    "\n",
    "    Input:\n",
    "        - sub: the subject ID\n",
    "        - timescale: the timescale of the signal to be plotted (x)\n",
    "        - data: single channel as np.ndarray (y)\n",
    "        - color: the color of the signal on the plot\n",
    "        - savingpath: the folder where the plot has to be saved\n",
    "        - saving_folder: Boolean, default = True, plots are automatically saved\n",
    "\n",
    "    \"\"\"\n",
    "\n",
    "\n",
    "    figure(figsize=(12, 6), dpi=80)\n",
    "    plt.plot(data)\n",
    "    #plt.scatter(timescale, data_diff, linewidth=1, color=color)\n",
    "    plt.xlabel('Time (s)')\n",
    "    plt.title(str(sub))\n",
    "    plt.ylabel('Intracerebral LFP channel (µV)')\n",
    "\n",
    "    if saving_folder:\n",
    "        plt.savefig(savingpath + '\\\\Fig1-Intracerebral channel raw plot.png',bbox_inches='tight')\n",
    "\n"
   ]
  },
  {
   "cell_type": "code",
   "execution_count": 126,
   "metadata": {},
   "outputs": [],
   "source": [
    "def find_LFP_sync_artefact(\n",
    "    lfp_data: np.ndarray, \n",
    "    use_kernel: str = '1',\n",
    "    consider_first_seconds_LFP=None,\n",
    "):\n",
    "    \"\"\"\n",
    "    Function that finds artefacts caused by\n",
    "    augmenting-reducing stimulation from 0 to 1mA without ramp.\n",
    "    For correct functioning, the LFP data should\n",
    "    start in stim-off, and typically short pulses\n",
    "    are given (without ramping).\n",
    "    The function uses a kernel which mimics the stimulation-\n",
    "    artefact. This kernel is multiplied with time-series\n",
    "    snippets of the same length. If the time-serie is\n",
    "    similar to the kernel, the dot-product is high, and this\n",
    "    indicates a stim-artefact.\n",
    "\n",
    "    Input:\n",
    "        - lfp_data: single channel as np.ndarray (the function\n",
    "            automatically inverts the signal if first a positive\n",
    "            peak is found, this indicates an inverted signal)\n",
    "        - use_kernel: decides whether kernel 1 or 2 is used,\n",
    "            kernel 1 is straight-forward and finds a steep decrease,\n",
    "            kernel 2 mimics the steep decrease and slow\n",
    "            recovery of the signal. default is kernel 1.\n",
    "        - consider_first_seconds_LFP: if given, only artefacts in the first\n",
    "            (and last) n-seconds are considered\n",
    "    \n",
    "    Returns:\n",
    "        - list of idx: a list with all stim-artefact starts. This\n",
    "            also contains stim-artefacts not happening at the\n",
    "            beginning or end of the recording. These have to be\n",
    "            selected by the user afterwards (item.getter function).\n",
    "    \"\"\"\n",
    "    #import settings\n",
    "    json_path = os.path.join(os.getcwd(), 'config')\n",
    "    json_filename = 'config.json'  # dont forget json extension\n",
    "    with open(os.path.join(json_path, json_filename), 'r') as f:\n",
    "        loaded_dict =  json.load(f)\n",
    "\n",
    "    \n",
    "    signal_inverted = False  # defaults false\n",
    "\n",
    "    # checks correct input for use_kernel variable\n",
    "    assert use_kernel in ['1', '2'], 'use_kernel incorrect'\n",
    "\n",
    "    # kernel 1 only searches for the steep decrease\n",
    "    # kernel 2 is more custom and takes into account the steep decrease and slow recover\n",
    "    kernels = {'1': np.array([1, -1]),\n",
    "               '2': np.array([1, 0, -1] + list(np.linspace(-1, 0, 20)))}\n",
    "    ker = kernels[use_kernel]\n",
    "    \n",
    "    # get dot-products between kernel and time-serie snippets\n",
    "    res = []  # store results of dot-products\n",
    "    for i in np.arange(0, len(lfp_data) - len(ker)):\n",
    "        res.append(ker @ lfp_data[i:i+len(ker)])  # calculate dot-product of vectors\n",
    "        # the dot-product result is high when the timeseries snippet\n",
    "        # is very similar to the kernel\n",
    "    res = np.array(res)  # convert list to array\n",
    "\n",
    "    # # normalise dot product results\n",
    "    res = res / max(res)\n",
    "\n",
    "    # calculate a ratio between std dev and maximum during\n",
    "    # the first seconds to check whether an stim-artef was present \n",
    "    ratio_max_sd = np.max(res[:loaded_dict['sf_LFP']*30] / np.std(res[:loaded_dict['sf_LFP']*5]))\n",
    "    \n",
    "    # use peak of kernel dot products    \n",
    "    pos_idx = find_peaks(x=res, height=.3 * max(res),\n",
    "                        distance=loaded_dict['sf_LFP'])[0]\n",
    "    neg_idx = find_peaks(x=-res, height=-.3 * min(res),\n",
    "                        distance=loaded_dict['sf_LFP'])[0]\n",
    "\n",
    "    # check whether signal is inverted\n",
    "    if neg_idx[0] < pos_idx[0]:\n",
    "        # the first peak should be POSITIVE (this is for the dot-product results)\n",
    "        # actual signal is first peak negative\n",
    "        # if NEG peak before POS then signal is inverted\n",
    "        print('signal is inverted')\n",
    "        signal_inverted = True\n",
    "        #print(pos_idx[0], neg_idx[0])\n",
    "        # re-check inverted for difficult cases with small pos-lfp peak before negative stim-artefact\n",
    "        if (pos_idx[0] - neg_idx[0]) < 50:  # if first positive and negative are very close\n",
    "            width_pos = 0\n",
    "            r_i = pos_idx[0]\n",
    "            while res[r_i] > (max(res) * .3):\n",
    "                r_i += 1\n",
    "                width_pos += 1\n",
    "            width_neg = 0\n",
    "            r_i = neg_idx[0]\n",
    "            while res[r_i] < (min(res) * .3):\n",
    "                r_i += 1\n",
    "                width_neg += 1\n",
    "            # undo invertion if negative dot-product (pos lfp peak) is very narrow\n",
    "            if width_pos > (2 * width_neg):\n",
    "                signal_inverted = False\n",
    "                print('invertion undone')\n",
    "            \n",
    "           \n",
    "    # return either POS or NEG peak-indices based on normal or inverted signal\n",
    "    if not signal_inverted:\n",
    "        stim_idx = pos_idx  # this is for 'normal' signal\n",
    "\n",
    "    elif signal_inverted:\n",
    "        stim_idx = neg_idx\n",
    "\n",
    "    \n",
    "\n",
    "    # check warn if NO STIM artefacts are suspected\n",
    "    if len(stim_idx) > 20 and ratio_max_sd < 8:\n",
    "        print('WARNING: probably the LFP signal did NOT'\n",
    "              ' contain any artefacts. Many incorrect timings'\n",
    "              ' could be returned')\n",
    "\n",
    "\n",
    "    if consider_first_seconds_LFP:\n",
    "        border_start = loaded_dict['sf_LFP']*consider_first_seconds_LFP\n",
    "        border_end = len(lfp_data) - (loaded_dict['sf_LFP'] * consider_first_seconds_LFP)\n",
    "        sel = np.logical_or(np.array(stim_idx) < border_start,\n",
    "                             np.array(stim_idx) > border_end)\n",
    "        stim_idx = list(compress(stim_idx, sel))\n",
    "\n",
    "    \"\"\"\n",
    "    # filter out inconsistencies in peak heights (assuming sync-stim-artefacts are stable)\n",
    "    abs_heights = [max(abs(lfp_data[i-5:i+5])) for i in stim_idx]\n",
    "    diff_median = np.array([abs(p - np.median(abs_heights)) for p in abs_heights])\n",
    "    sel_idx = diff_median < (np.median(abs_heights) * .66)\n",
    "    stim_idx = list(compress(stim_idx, sel_idx))\n",
    "    # check polarity of peak\n",
    "    if not signal_inverted:\n",
    "        sel_idx = np.array([min(lfp_data[i-5:i+5]) for i in stim_idx]) < (np.median(abs_heights) * -.5)\n",
    "    elif signal_inverted:\n",
    "        sel_idx = np.array([max(lfp_data[i-5:i+5]) for i in stim_idx])  > (np.median(abs_heights) * .5)\n",
    "    stim_idx = list(compress(stim_idx, sel_idx))\n",
    "    \"\"\"\n",
    "\n",
    "    return stim_idx"
   ]
  },
  {
   "cell_type": "code",
   "execution_count": 153,
   "metadata": {},
   "outputs": [
    {
     "name": "stdout",
     "output_type": "stream",
     "text": [
      "signal is inverted\n"
     ]
    },
    {
     "data": {
      "text/plain": [
       "(6.056, 6.4559999999999995)"
      ]
     },
     "execution_count": 153,
     "metadata": {},
     "output_type": "execute_result"
    }
   ],
   "source": [
    "# import settings\n",
    "json_path = os.path.join(os.getcwd(), 'config')\n",
    "json_filename = 'config.json'  # dont forget json extension\n",
    "with open(os.path.join(json_path, json_filename), 'r') as f:\n",
    "    loaded_dict =  json.load(f)\n",
    "\n",
    "# check that the subject ID has been entered properly in the config file:\n",
    "if loaded_dict['subject_ID'] is None or loaded_dict['subject_ID'] == \"\":\n",
    "    raise ValueError('Please fill in the subject_ID in the config file as a str')\n",
    "\n",
    "# set saving path\n",
    "if loaded_dict['saving_path'] == False:\n",
    "    saving_path = utils.define_folders()\n",
    "else:\n",
    "    saving_path = os.path.join(os.path.normpath(loaded_dict['saving_path']), loaded_dict['subject_ID'])\n",
    "    if not os.path.isdir(saving_path):\n",
    "        os.makedirs(saving_path)\n",
    "\n",
    "# Generate timescales:\n",
    "LFP_timescale_s = np.arange(0,(len(lfp_sig)/loaded_dict['sf_LFP']),(1/loaded_dict['sf_LFP']))\n",
    "\n",
    "smoothed_signal = smooth_signal(lfp_sig, window_size=5)\n",
    "\n",
    "# PLOT 1 : plot the signal of the channel used for artefact detection in intracerebral recording:\n",
    "plot_LFP_artefact_channel(loaded_dict['subject_ID'], \n",
    "                                LFP_timescale_s, \n",
    "                                smoothed_signal, 'darkorange', \n",
    "                                savingpath = saving_path)\n",
    "\n",
    "### DETECT ARTEFACTS ###\n",
    "\n",
    "# find artefacts in intracerebral channel\n",
    "art_idx_LFP = find_LFP_sync_artefact(\n",
    "    smoothed_signal,\n",
    "    use_kernel=loaded_dict['kernel'], \n",
    "    consider_first_seconds_LFP=loaded_dict['consider_first_seconds_LFP']\n",
    ")\n",
    "\n",
    "art_time_LFP = utils.convert_index_to_time(art_idx_LFP,\n",
    "                                            loaded_dict['sf_LFP']) \n",
    "\n",
    "# PLOT 3 : plot the intracerebral channel with its artefacts detected:\n",
    "plot.plot_channel(loaded_dict['subject_ID'], \n",
    "                    LFP_timescale_s, \n",
    "                    smoothed_signal,\n",
    "                    'darkorange',scatter=True)\n",
    "plt.ylabel('Intracerebral LFP channel (µV)')\n",
    "for xline in art_time_LFP:\n",
    "    plt.axvline(x=xline, \n",
    "                ymin=min(lfp_sig), \n",
    "                ymax=max(lfp_sig), \n",
    "                color='black', \n",
    "                linestyle='dashed',\n",
    "                alpha=.3,)\n",
    "\n",
    "\n",
    "\n",
    "# PLOT 4 : plot the first artefact detected in intracerebral channel for verification of sample choice:\n",
    "plot.plot_channel(loaded_dict['subject_ID'], \n",
    "                    LFP_timescale_s, \n",
    "                    smoothed_signal, 'darkorange',\n",
    "                    scatter=True)\n",
    "plt.ylabel('Intracerebral LFP channel (µV)')\n",
    "for xline in art_time_LFP:\n",
    "    plt.axvline(x=xline, \n",
    "                ymin=min(lfp_sig), \n",
    "                ymax=max(lfp_sig), \n",
    "                color='black', \n",
    "                linestyle='dashed', \n",
    "                alpha=.3,)\n",
    "plt.xlim(art_time_LFP[0]-0.1,art_time_LFP[0]+0.3)\n"
   ]
  },
  {
   "cell_type": "markdown",
   "metadata": {},
   "source": [
    "## PART 3 : Look for timeshift ##"
   ]
  },
  {
   "cell_type": "code",
   "execution_count": null,
   "metadata": {},
   "outputs": [],
   "source": [
    "resync.run_timeshift_analysis(\n",
    "    LFP_df_offset,\n",
    "    external_df_offset,\n",
    "    SHOW_FIGURES = True\n",
    ")\n"
   ]
  },
  {
   "cell_type": "markdown",
   "metadata": {},
   "source": [
    "## PART 4 : Look for packet loss ##"
   ]
  },
  {
   "cell_type": "code",
   "execution_count": null,
   "metadata": {},
   "outputs": [],
   "source": [
    "json_fname = 'Report_Json_Session_Report_20230523T113952.json'  ## write json filename with extension\n",
    "sub = '047'\n",
    "resync.check_packet_loss(json_fname, sub)"
   ]
  },
  {
   "cell_type": "markdown",
   "metadata": {},
   "source": [
    "## PLAYGROUND ##"
   ]
  },
  {
   "cell_type": "markdown",
   "metadata": {},
   "source": [
    "##### ECG artefact verification #####"
   ]
  },
  {
   "cell_type": "code",
   "execution_count": 16,
   "metadata": {},
   "outputs": [
    {
     "data": {
      "text/plain": [
       "<module 'functions.main_resync' from 'c:\\\\Users\\\\Juliette\\\\Research\\\\Projects\\\\Synchronization_project\\\\Code\\\\ReSync\\\\functions\\\\main_resync.py'>"
      ]
     },
     "execution_count": 16,
     "metadata": {},
     "output_type": "execute_result"
    }
   ],
   "source": [
    "importlib.reload(resync)"
   ]
  },
  {
   "cell_type": "code",
   "execution_count": null,
   "metadata": {},
   "outputs": [],
   "source": [
    "resync.ecg(LFP_df_offset,\n",
    "    external_df_offset,\n",
    "    SHOW_FIGURES = True\n",
    ")"
   ]
  },
  {
   "cell_type": "markdown",
   "metadata": {},
   "source": [
    "##### Make quick figures #####"
   ]
  },
  {
   "cell_type": "code",
   "execution_count": null,
   "metadata": {},
   "outputs": [],
   "source": [
    "import json\n",
    "\n",
    "#import settings\n",
    "json_path = os.path.join(os.getcwd(), 'config')\n",
    "json_filename = 'config.json'  # dont forget json extension\n",
    "with open(os.path.join(json_path, json_filename), 'r') as f:\n",
    "    loaded_dict =  json.load(f)\n",
    "\n",
    "#set saving path\n",
    "if loaded_dict['saving_path'] == False:\n",
    "    saving_path = utils.define_folders()\n",
    "else:\n",
    "    saving_path = os.path.join(os.path.normpath(loaded_dict['saving_path']), loaded_dict['subject_ID'])\n",
    "    if not os.path.isdir(saving_path):\n",
    "        os.makedirs(saving_path)\n",
    "\n",
    "\n",
    "### DETECT ARTEFACTS ###\n",
    "\n",
    "# Reselect artefact channels in the aligned (= cropped) files\n",
    "LFP_channel_offset = LFP_df_offset.iloc[:,loaded_dict['LFP_ch_index']].to_numpy()  \n",
    "BIP_channel_offset = external_df_offset.iloc[:,loaded_dict['BIP_ch_index']].to_numpy() \n",
    "\n",
    "# Generate new timescales:\n",
    "LFP_timescale_offset_s = np.arange(0,(len(LFP_channel_offset)/loaded_dict['sf_LFP']),1/loaded_dict['sf_LFP'])\n",
    "external_timescale_offset_s = np.arange(0,(len(BIP_channel_offset)/loaded_dict['sf_external']),1/loaded_dict['sf_external'])\n",
    "\n",
    "filtered_external_offset = preproc.filtering(BIP_channel_offset)"
   ]
  },
  {
   "cell_type": "code",
   "execution_count": null,
   "metadata": {},
   "outputs": [],
   "source": [
    "# Both signals aligned with all their artefacts detected:\n",
    "fig, (ax1, ax2) = plt.subplots(2,1)\n",
    "fig.suptitle(str(loaded_dict['subject_ID']))\n",
    "fig.set_figheight(6)\n",
    "fig.set_figwidth(12)\n",
    "ax1.axes.xaxis.set_ticklabels([])\n",
    "ax2.set_xlabel('Time (s)')\n",
    "ax1.set_ylabel('Intracerebral LFP channel (µV)')\n",
    "ax2.set_ylabel('External bipolar channel (mV)')\n",
    "#ax1.set_xlim(0,len(LFP_channel_offset)/loaded_dict['sf_LFP']) \n",
    "#ax2.set_xlim(0,len(LFP_channel_offset)/loaded_dict['sf_LFP']) \n",
    "ax1.set_xlim(264.9,265.4) \n",
    "ax2.set_xlim(264.9,265.4)\n",
    "ax1.set_ylim(-500,500)\n",
    "ax1.scatter(LFP_timescale_offset_s,LFP_channel_offset,color='darkorange',zorder=1, s=3)\n",
    "ax2.plot(external_timescale_offset_s,filtered_external_offset, color='darkcyan',zorder=1, linewidth=0.1) \n",
    "\n",
    "fig.savefig(saving_path + '\\\\last artefact zoomed.png',bbox_inches='tight')\n"
   ]
  },
  {
   "cell_type": "code",
   "execution_count": null,
   "metadata": {},
   "outputs": [],
   "source": [
    "plt.scatter(LFP_timescale_offset_s,LFP_channel_offset,color='darkorange',zorder=1, s=5)\n",
    "plt.title(str(loaded_dict['subject_ID']))\n",
    "plt.xlim(265,265.4)\n",
    "plt.ylim(-400,200)\n",
    "plt.xlabel('Time (s)')\n",
    "plt.ylabel('Intracerebral LFP channel (µV)')\n",
    "plt.savefig(saving_path + '\\\\last artefact zoomed2.png',bbox_inches='tight')"
   ]
  }
 ],
 "metadata": {
  "kernelspec": {
   "display_name": "mne",
   "language": "python",
   "name": "python3"
  },
  "language_info": {
   "codemirror_mode": {
    "name": "ipython",
    "version": 3
   },
   "file_extension": ".py",
   "mimetype": "text/x-python",
   "name": "python",
   "nbconvert_exporter": "python",
   "pygments_lexer": "ipython3",
   "version": "3.10.9"
  },
  "orig_nbformat": 4,
  "vscode": {
   "interpreter": {
    "hash": "d88ae3f494ed6750ac12c087146162cb95510d20525109b4b9e2bae86cf73368"
   }
  }
 },
 "nbformat": 4,
 "nbformat_minor": 2
}
